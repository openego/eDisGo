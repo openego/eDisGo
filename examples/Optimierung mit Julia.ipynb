{
 "cells": [
  {
   "cell_type": "code",
   "execution_count": null,
   "id": "33c0be37",
   "metadata": {},
   "outputs": [],
   "source": [
    "import pandas as pd\n",
    "from edisgo.edisgo import import_edisgo_from_files\n",
    "from edisgo.flex_opt.costs import grid_expansion_costs\n",
    "from edisgo.tools.tools import reduce_timeseries_data_to_given_timeindex\n",
    "from copy import deepcopy\n",
    "from edisgo.tools.config import Config\n",
    "import os"
   ]
  },
  {
   "cell_type": "code",
   "execution_count": null,
   "id": "9d659bb1",
   "metadata": {},
   "outputs": [],
   "source": [
    "grid = \"5bus_testcase\"\n",
    "path = os.path.join(\".\", \"data\", grid)\n",
    "solution_path = os.path.join(\".\",\"opf_solutions\", grid+\".csv\")"
   ]
  },
  {
   "cell_type": "code",
   "execution_count": null,
   "id": "eeced3f1",
   "metadata": {
    "jupyter": {
     "outputs_hidden": true
    },
    "tags": []
   },
   "outputs": [],
   "source": [
    "edisgo = import_edisgo_from_files(path, \n",
    "                                  import_topology=True,\n",
    "                                  import_timeseries=True,\n",
    "                                  import_electromobility=True,\n",
    "                                  import_heat_pump=True,\n",
    "                                  import_dsm=True,\n",
    "                                  import_overlying_grid=True)\n",
    "edisgo._config =  Config()\n",
    "edisgo_OPF = deepcopy(edisgo)\n",
    "edisgo_OPF.timeseries.timeindex.freq = \"1H\"\n",
    "edisgo.reinforce()\n",
    "cost = grid_expansion_costs(edisgo)"
   ]
  },
  {
   "cell_type": "markdown",
   "id": "c78fdeaa",
   "metadata": {},
   "source": [
    "# 1. Flexibilitäten\n",
    "Implementiert sind folgende Flexibilitäten\n",
    "* Elektromobilität\n",
    "* Wärmepumpen mit Wärmespeichern\n",
    "* Batteriespeicher\n",
    "* Demand Side Management\n",
    "\n",
    "Damit die flexiblen Verbraucher in der Julia-Optimierung berücksichtigt werden, müssen für jede Flexibilität eine Liste der Namen der flexiblen Verbraucher an den entsprechenden Parameter in ```edisgo.opf.powermodels_opf.pm_optimize()``` übergeben. \n",
    "\n",
    "Parameter:\n",
    "* flexible_cps\n",
    "* flexible_hps\n",
    "* flexible_storage_units\n",
    "* flexible_loads\n",
    "\n",
    "Falls Flexibilität nicht mit optimiert werden soll, den Parameter nicht setzen. "
   ]
  },
  {
   "cell_type": "code",
   "execution_count": null,
   "id": "8302e1f1",
   "metadata": {},
   "outputs": [],
   "source": [
    "# Elektromobilität\n",
    "flexible_cps = edisgo.topology.loads_df.loc[(edisgo.topology.loads_df.type==\"charging_point\") & \n",
    "                                            ((edisgo.topology.loads_df.sector==\"home\")|\n",
    "                                             (edisgo.topology.loads_df.sector==\"work\"))].index.values\n",
    "# Wärmepumpen/-speicher\n",
    "flexible_hps = edisgo.heat_pump.thermal_storage_units_df.index.values\n",
    "# Batteriespeicher\n",
    "flexible_storage_units = edisgo.topology.storage_units_df.index.values\n",
    "# DSM\n",
    "flexible_loads = edisgo.dsm.p_max.columns"
   ]
  },
  {
   "cell_type": "markdown",
   "id": "eff27abd",
   "metadata": {
    "tags": []
   },
   "source": [
    "# 2. OPF Version\n",
    "Parameter: opf_version\n",
    "1. Ohne Anforderungen aus dem übergelagerten Netz, ohne Netzrestriktionen\n",
    "2. Ohne Anforderungen aus dem übergelagerten Netz, mit Netzrestriktionen\n",
    "3. Mit Anforderungen aus dem übergelagerten Netz, ohne Netzrestriktionen\n",
    "4. Mit Anforderungen aus dem übergelagerten Netz, mit Netzrestriktionen"
   ]
  },
  {
   "cell_type": "code",
   "execution_count": null,
   "id": "637f10cf",
   "metadata": {},
   "outputs": [],
   "source": [
    "opf_version = 2"
   ]
  },
  {
   "cell_type": "markdown",
   "id": "f0e511c8",
   "metadata": {},
   "source": [
    "# 3. Optimierungsmethode\n",
    "Parameter: method\n",
    "- \"soc\": konvexe SOC-Optimierung\n",
    "- \"nc\": nicht-konvexe Optimierung"
   ]
  },
  {
   "cell_type": "code",
   "execution_count": null,
   "id": "270f1a54",
   "metadata": {},
   "outputs": [],
   "source": [
    "method = \"soc\""
   ]
  },
  {
   "cell_type": "markdown",
   "id": "172a57be",
   "metadata": {},
   "source": [
    "# 4. eDisGo Funktionen für die Optimierung\n",
    "## 4.1. ```to_powermodels()```\n",
    "Wandelt eDisGo Objekt in PowerModels Network Data Format um.  \n",
    "```python\n",
    "to_powermodels(\n",
    "    self,\n",
    "    s_base=1,\n",
    "    flexible_cps=None,\n",
    "    flexible_hps=None,\n",
    "    flexible_loads=None,\n",
    "    flexible_storages=None,\n",
    "    opf_version=4,\n",
    "    )\n",
    "```"
   ]
  },
  {
   "cell_type": "code",
   "execution_count": null,
   "id": "eb1f0c76",
   "metadata": {
    "jupyter": {
     "outputs_hidden": true
    },
    "tags": []
   },
   "outputs": [],
   "source": [
    "pm, hv_flex_dict = edisgo_OPF.to_powermodels(flexible_cps=flexible_cps, flexible_hps=flexible_hps,\n",
    "                               flexible_loads=flexible_loads, flexible_storage_units=flexible_storage_units,\n",
    "                               opf_version=opf_version)\n",
    "pm"
   ]
  },
  {
   "cell_type": "markdown",
   "id": "d1c6c27f",
   "metadata": {},
   "source": [
    "## 4.3. ```save_edisgo_to_json()```\n",
    "Speichert eDisGo Objekt im PowerModels Network Data Format als json. Wird zum Debuggen mit Julia benötigt.\n",
    "```python\n",
    "save_edisgo_to_json(\n",
    "    self,\n",
    "    filename=None,\n",
    "    path=\"\",\n",
    "    s_base=1,\n",
    "    flexible_cps=None,\n",
    "    flexible_hps=None,\n",
    "    flexible_loads=None,\n",
    "    flexible_storages=None,\n",
    "    opf_version=4,\n",
    ")\n",
    "\n",
    "```"
   ]
  },
  {
   "cell_type": "markdown",
   "id": "6c1cd7f2",
   "metadata": {},
   "source": [
    "## 4.4. ```pm_optimize()```\n",
    "Startet die Julia Optimierung für das eDisGo Objekt in einem Subproccess und schreibt die Ergebnisse der Optimierung wieder auf das eDisGo Objekt.\n",
    "```python\n",
    "pm_optimize(\n",
    "    self,\n",
    "    s_base=1,\n",
    "    flexible_cps=None,\n",
    "    flexible_hps=None,\n",
    "    flexible_loads=None,\n",
    "    flexible_storages=None,\n",
    "    opf_version=4,\n",
    "    method=\"soc\",\n",
    "    warm_start=False,\n",
    "    silence_moi=False,\n",
    "    save_heat_storage=False,\n",
    "    save_slack_gen=False,\n",
    "    save_slacks=False,\n",
    "    path=\"\",\n",
    ")\n",
    "\n",
    "```"
   ]
  },
  {
   "cell_type": "code",
   "execution_count": null,
   "id": "76748806",
   "metadata": {},
   "outputs": [],
   "source": [
    "edisgo_OPF.pm_optimize(flexible_cps=flexible_cps,\n",
    "                       flexible_hps=flexible_hps,\n",
    "                       flexible_loads=flexible_loads,\n",
    "                       flexible_storage_units=flexible_storage_units,\n",
    "                       s_base=1,\n",
    "                       opf_version=opf_version, \n",
    "                       silence_moi=False)\n",
    "edisgo_OPF.opf_results.solution_time"
   ]
  },
  {
   "cell_type": "markdown",
   "id": "620c1de6",
   "metadata": {},
   "source": [
    "## 4.2. ```from_powermodels()```\n",
    "Schreibt Ergebnisse der PowerModels Optimierung (Zeitreihen für die Flexibilitäten) zurück auf das eDisGo Objekt. Wird in Funktion ```pm_optimize()``` beutzt. \n",
    "```python\n",
    "from_powermodels(\n",
    "    self,\n",
    "    pm_results,\n",
    "    hv_flex_dict,\n",
    "    s_base=1,\n",
    "    save_heat_storage=False,\n",
    "    save_slack_gen=False,\n",
    "    save_slacks=False,\n",
    "    path=\"\",\n",
    ")\n",
    "```"
   ]
  },
  {
   "cell_type": "code",
   "execution_count": null,
   "id": "32918b81",
   "metadata": {
    "jupyter": {
     "outputs_hidden": true
    },
    "tags": []
   },
   "outputs": [],
   "source": [
    "edisgo_OPF.reinforce()\n",
    "cost_OPF = grid_expansion_costs(edisgo_OPF)"
   ]
  },
  {
   "cell_type": "code",
   "execution_count": null,
   "id": "7f070169",
   "metadata": {},
   "outputs": [],
   "source": [
    "cost"
   ]
  },
  {
   "cell_type": "code",
   "execution_count": null,
   "id": "f637dbf8-e145-44d6-84fb-0dac13201d5d",
   "metadata": {},
   "outputs": [],
   "source": [
    "cost_OPF"
   ]
  }
 ],
 "metadata": {
  "kernelspec": {
   "display_name": "Python 3 (ipykernel)",
   "language": "python",
   "name": "python3"
  },
  "language_info": {
   "codemirror_mode": {
    "name": "ipython",
    "version": 3
   },
   "file_extension": ".py",
   "mimetype": "text/x-python",
   "name": "python",
   "nbconvert_exporter": "python",
   "pygments_lexer": "ipython3",
   "version": "3.8.10"
  }
 },
 "nbformat": 4,
 "nbformat_minor": 5
}
