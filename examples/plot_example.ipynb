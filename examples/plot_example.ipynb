{
 "cells": [
  {
   "cell_type": "code",
   "execution_count": null,
   "metadata": {},
   "outputs": [],
   "source": [
    "__copyright__ = \"Reiner Lemoine Institut gGmbH\"\n",
    "__license__ = \"GNU Affero General Public License Version 3 (AGPL-3.0)\"\n",
    "__url__ = \"https://github.com/openego/eDisGo/blob/master/LICENSE\"\n",
    "__author__ = \"mltja\""
   ]
  },
  {
   "cell_type": "markdown",
   "metadata": {},
   "source": [
    "# eDisGo plot example with plotly"
   ]
  },
  {
   "cell_type": "markdown",
   "metadata": {},
   "source": [
    "## Setup"
   ]
  },
  {
   "cell_type": "markdown",
   "metadata": {
    "tags": []
   },
   "source": [
    "#### Import packages"
   ]
  },
  {
   "cell_type": "code",
   "execution_count": null,
   "metadata": {},
   "outputs": [],
   "source": [
    "import os\n",
    "import sys\n",
    "import pandas as pd\n",
    "import requests\n",
    "import copy\n",
    "\n",
    "from edisgo import EDisGo\n",
    "from edisgo.tools.plots import draw_plotly\n",
    "from edisgo.tools.plots import show_dash_plot"
   ]
  },
  {
   "cell_type": "markdown",
   "metadata": {},
   "source": [
    "#### Download example grid"
   ]
  },
  {
   "cell_type": "code",
   "execution_count": null,
   "metadata": {},
   "outputs": [],
   "source": [
    "def download_ding0_example_grid():\n",
    "\n",
    "    # create directories to save ding0 example grid into\n",
    "    ding0_example_grid_path = os.path.join(\n",
    "        os.path.expanduser(\"~\"), \".edisgo\", \"ding0_test_network\"\n",
    "    )\n",
    "    os.makedirs(ding0_example_grid_path, exist_ok=True)\n",
    "\n",
    "    # download files\n",
    "    filenames = [\n",
    "        \"buses\",\n",
    "        \"generators\",\n",
    "        \"lines\",\n",
    "        \"loads\",\n",
    "        \"network\",\n",
    "        \"switches\",\n",
    "        \"transformers\",\n",
    "        \"transformers_hvmv\",\n",
    "    ]\n",
    "\n",
    "    for file in filenames:\n",
    "        req = requests.get(\n",
    "            \"https://raw.githubusercontent.com/openego/eDisGo/dev/tests/data/ding0_test_network_1/{}.csv\".format(\n",
    "                file\n",
    "            )\n",
    "        )\n",
    "        filename = os.path.join(ding0_example_grid_path, \"{}.csv\".format(file))\n",
    "        with open(filename, \"wb\") as fout:\n",
    "            fout.write(req.content)\n",
    "\n",
    "\n",
    "download_ding0_example_grid()"
   ]
  },
  {
   "cell_type": "code",
   "execution_count": null,
   "metadata": {},
   "outputs": [],
   "source": [
    "ding0_grid = os.path.join(os.path.expanduser(\"~\"), \".edisgo\", \"ding0_test_network\")"
   ]
  },
  {
   "cell_type": "markdown",
   "metadata": {},
   "source": [
    "#### Create edisgo objects"
   ]
  },
  {
   "cell_type": "code",
   "execution_count": null,
   "metadata": {},
   "outputs": [],
   "source": [
    "edisgo_root = EDisGo(ding0_grid=ding0_grid)\n",
    "edisgo_root.set_time_series_worst_case_analysis()\n",
    "edisgo_root.analyze()"
   ]
  },
  {
   "cell_type": "code",
   "execution_count": null,
   "metadata": {},
   "outputs": [],
   "source": [
    "edisgo_copy = copy.deepcopy(edisgo_root)"
   ]
  },
  {
   "cell_type": "code",
   "execution_count": null,
   "metadata": {},
   "outputs": [],
   "source": [
    "edisgo_reinforced = copy.deepcopy(edisgo_root)\n",
    "edisgo_reinforced.reinforce()"
   ]
  },
  {
   "cell_type": "code",
   "execution_count": null,
   "metadata": {},
   "outputs": [],
   "source": [
    "edisgo_reinforced.results.equipment_changes.loc[\"Line_10006\",\"change\"]=\"added\""
   ]
  },
  {
   "cell_type": "markdown",
   "metadata": {},
   "source": [
    "## Plots"
   ]
  },
  {
   "cell_type": "markdown",
   "metadata": {
    "tags": []
   },
   "source": [
    "### draw_plotly function"
   ]
  },
  {
   "cell_type": "markdown",
   "metadata": {
    "tags": []
   },
   "source": [
    "In the following different plotting options are shown.\n",
    "\n",
    "The different options for node colors (set using parameter `mode_nodes`) and line colors (set using parameter `mode_lines`) are:\n",
    "\n",
    "- mode_nodes\n",
    "    - 'voltage_deviation' - shows the deviation of the node voltage relative to 1 p.u.\n",
    "    - 'adjacencies' - shows the the number of connections of the graph\n",
    "- mode_lines\n",
    "    - 'relative_loading' - shows the line loading relative to the s_nom of the line\n",
    "    - 'loading' - shows the loading\n",
    "    - 'reinforce' - shows the reinforced lines in green\n",
    "\n",
    "\n",
    "The different options for used coordinates (set using parameter `grid`) are:\n",
    "\n",
    "- grid\n",
    "    - grid object - the coordinate origin is set to the stations coordinates\n",
    "    - False - the coordinates are not modified \n",
    "\n",
    "Hovering over nodes and lines shows some information on them."
   ]
  },
  {
   "cell_type": "code",
   "execution_count": null,
   "metadata": {},
   "outputs": [],
   "source": [
    "edisgo_obj = edisgo_root\n",
    "grid = edisgo_obj.topology.mv_grid\n",
    "G = grid.graph"
   ]
  },
  {
   "cell_type": "code",
   "execution_count": null,
   "metadata": {},
   "outputs": [],
   "source": [
    "# plotting relative loading and voltage deviation, with grid coordinates modified to have the station in the origin\n",
    "mode_lines = \"relative_loading\"\n",
    "mode_nodes = \"voltage_deviation\"\n",
    "\n",
    "fig = draw_plotly(\n",
    "    edisgo_obj, G, line_color=mode_lines, node_color=mode_nodes, grid=grid\n",
    ")\n",
    "fig.show()"
   ]
  },
  {
   "cell_type": "code",
   "execution_count": null,
   "metadata": {},
   "outputs": [],
   "source": [
    "# plotting loading and voltage deviation, with unchanged coordinates\n",
    "mode_lines = \"loading\"\n",
    "mode_nodes = \"voltage_deviation\"\n",
    "\n",
    "fig = draw_plotly(\n",
    "    edisgo_obj, G, line_color=mode_lines, node_color=mode_nodes, grid=False\n",
    ")\n",
    "fig.show()"
   ]
  },
  {
   "cell_type": "code",
   "execution_count": null,
   "metadata": {},
   "outputs": [],
   "source": [
    "# plotting reinforced lines and node adjacencies\n",
    "edisgo_obj = edisgo_reinforced\n",
    "G = edisgo_obj.topology.mv_grid.graph\n",
    "\n",
    "mode_lines = \"reinforce\"\n",
    "mode_nodes = \"adjacencies\"\n",
    "\n",
    "fig = draw_plotly(\n",
    "    edisgo_obj, G, line_color=mode_lines, node_color=mode_nodes, grid=False\n",
    ")\n",
    "fig.show()"
   ]
  },
  {
   "cell_type": "markdown",
   "metadata": {
    "tags": []
   },
   "source": [
    "### Dash plot app which calls draw_plotly\n",
    "One edisgo object creates one large plot. Two or more edisgo objects create two adjacent plots, where the objects to be plotted are selected in the dropdown menu."
   ]
  },
  {
   "cell_type": "markdown",
   "metadata": {
    "tags": []
   },
   "source": [
    "#### One interactive plot"
   ]
  },
  {
   "cell_type": "code",
   "execution_count": null,
   "metadata": {},
   "outputs": [],
   "source": [
    "show_dash_plot(edisgo_objects=edisgo_root)"
   ]
  },
  {
   "cell_type": "markdown",
   "metadata": {},
   "source": [
    "#### Two interactives plots side by side"
   ]
  },
  {
   "cell_type": "code",
   "execution_count": null,
   "metadata": {},
   "outputs": [],
   "source": [
    "show_dash_plot(edisgo_objects={\"edisgo_obj_1\": edisgo_root, \"edisgo_obj_2\": edisgo_reinforced})"
   ]
  },
  {
   "cell_type": "markdown",
   "metadata": {},
   "source": [
    "#### Two interactives plots side by side with 3 EDisGo objects\n",
    "\n",
    "Choose your edisgo objects in the drop down menu."
   ]
  },
  {
   "cell_type": "code",
   "execution_count": null,
   "metadata": {},
   "outputs": [],
   "source": [
    "show_dash_plot(\n",
    "    edisgo_objects={\n",
    "        \"edisgo_obj_1\": edisgo_root,\n",
    "        \"edisgo_obj_2\": edisgo_reinforced,\n",
    "        \"edisgo_obj_3\": edisgo_copy\n",
    "    }\n",
    ")"
   ]
  },
  {
   "cell_type": "code",
   "execution_count": null,
   "metadata": {},
   "outputs": [],
   "source": []
  }
 ],
 "metadata": {
  "kernelspec": {
   "display_name": "Python 3 (ipykernel)",
   "language": "python",
   "name": "python3"
  },
  "language_info": {
   "codemirror_mode": {
    "name": "ipython",
    "version": 3
   },
   "file_extension": ".py",
   "mimetype": "text/x-python",
   "name": "python",
   "nbconvert_exporter": "python",
   "pygments_lexer": "ipython3",
   "version": "3.8.12"
  },
  "toc": {
   "base_numbering": 1,
   "nav_menu": {},
   "number_sections": true,
   "sideBar": true,
   "skip_h1_title": false,
   "title_cell": "Table of Contents",
   "title_sidebar": "Contents",
   "toc_cell": false,
   "toc_position": {},
   "toc_section_display": true,
   "toc_window_display": false
  }
 },
 "nbformat": 4,
 "nbformat_minor": 4
}
