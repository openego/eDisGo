{
 "cells": [
  {
   "cell_type": "markdown",
   "id": "e9100083",
   "metadata": {},
   "source": [
    "# Electromobility example\n",
    "\n",
    "This example shows you the first steps how to integrate electromobility into eDisGo using data from [SimBEV](https://github.com/rl-institut/simbev) and [TracBEV](https://github.com/rl-institut/tracbev). SimBEV provides data on standing times, charging demand, etc. per vehicle, whereas TracBEV provides potential charging point locations.\n",
    "\n",
    "**Learn more about eDisGo**\n",
    "\n",
    "* __[eDisGo Source Code](https://github.com/openego/eDisGo)__\n",
    "* __[eDisGo Documentation](http://edisgo.readthedocs.io/en/dev/)__"
   ]
  },
  {
   "cell_type": "markdown",
   "id": "c74c4450",
   "metadata": {},
   "source": [
    "## Installation and setup\n",
    "\n",
    "This notebook requires a working installation of eDisGo. Checkout the eDisGo documentation on [how to install eDisGo](https://edisgo.readthedocs.io/en/dev/quickstart.html#getting-started) for more information."
   ]
  },
  {
   "cell_type": "markdown",
   "id": "ecefffc4",
   "metadata": {},
   "source": [
    "### Import packages"
   ]
  },
  {
   "cell_type": "code",
   "execution_count": null,
   "id": "6898e8bd",
   "metadata": {},
   "outputs": [],
   "source": [
    "import os\n",
    "\n",
    "import geopandas as gpd\n",
    "import pandas as pd\n",
    "import requests\n",
    "import zipfile\n",
    "\n",
    "import matplotlib.pyplot as plt\n",
    "\n",
    "from copy import deepcopy\n",
    "from pathlib import Path\n",
    "from bs4 import BeautifulSoup\n",
    "\n",
    "from edisgo.edisgo import EDisGo\n",
    "from edisgo.tools.logger import setup_logger\n",
    "from edisgo.tools.plots import plot_dash, plot_plotly"
   ]
  },
  {
   "cell_type": "code",
   "execution_count": null,
   "id": "6b5c46ca",
   "metadata": {},
   "outputs": [],
   "source": [
    "%matplotlib notebook"
   ]
  },
  {
   "cell_type": "markdown",
   "id": "488bfb8c",
   "metadata": {},
   "source": [
    "### Set up logger"
   ]
  },
  {
   "cell_type": "code",
   "execution_count": null,
   "id": "e3b60c43",
   "metadata": {},
   "outputs": [],
   "source": [
    "# set up logger that streams edisgo logging messages with level info and above \n",
    "# and other logging messages with level error and above to stdout\n",
    "setup_logger(\n",
    "    loggers=[\n",
    "        {\"name\": \"root\", \"file_level\": None, \"stream_level\": \"error\"},\n",
    "        {\"name\": \"edisgo\", \"file_level\": None, \"stream_level\": \"info\"}\n",
    "    ]\n",
    ")"
   ]
  },
  {
   "cell_type": "markdown",
   "id": "fd735589",
   "metadata": {},
   "source": [
    "### Download example grid"
   ]
  },
  {
   "cell_type": "code",
   "execution_count": null,
   "id": "afe44b3f",
   "metadata": {},
   "outputs": [],
   "source": [
    "def download_ding0_example_grid():\n",
    "\n",
    "    # create directories to save ding0 example grid into\n",
    "    ding0_example_grid_path = os.path.join(\n",
    "        os.path.expanduser(\"~\"), \".edisgo\", \"ding0_test_network\"\n",
    "    )\n",
    "    os.makedirs(ding0_example_grid_path, exist_ok=True)\n",
    "\n",
    "    # download files\n",
    "    filenames = [\n",
    "        \"buses\",\n",
    "        \"generators\",\n",
    "        \"lines\",\n",
    "        \"loads\",\n",
    "        \"network\",\n",
    "        \"switches\",\n",
    "        \"transformers\",\n",
    "        \"transformers_hvmv\",\n",
    "    ]\n",
    "\n",
    "    for file in filenames:\n",
    "        req = requests.get(\n",
    "            \"https://raw.githubusercontent.com/openego/eDisGo/dev/tests/data/ding0_test_network_2/{}.csv\".format(\n",
    "                file\n",
    "            )\n",
    "        )\n",
    "        filename = os.path.join(ding0_example_grid_path, f\"{file}.csv\")\n",
    "        with open(filename, \"wb\") as fout:\n",
    "            fout.write(req.content)\n",
    "\n",
    "\n",
    "download_ding0_example_grid()"
   ]
  },
  {
   "cell_type": "markdown",
   "id": "abddc320",
   "metadata": {},
   "source": [
    "### Set up edisgo object"
   ]
  },
  {
   "cell_type": "code",
   "execution_count": null,
   "id": "b8a406ae",
   "metadata": {},
   "outputs": [],
   "source": [
    "ding0_grid = os.path.join(os.path.expanduser(\"~\"), \".edisgo\", \"ding0_test_network\")\n",
    "edisgo = EDisGo(ding0_grid=ding0_grid)\n",
    "\n",
    "# set up time series\n",
    "timeindex = pd.date_range(\"1/1/2011\", periods=24 * 7, freq=\"H\")\n",
    "edisgo.set_timeindex(timeindex)\n",
    "edisgo.set_time_series_active_power_predefined(\n",
    "    fluctuating_generators_ts=\"oedb\",\n",
    "    dispatchable_generators_ts=pd.DataFrame(data=1, columns=[\"other\"], index=timeindex),\n",
    "    conventional_loads_ts=\"demandlib\",\n",
    ")\n",
    "edisgo.set_time_series_reactive_power_control()\n",
    "\n",
    "# resample time series to have a temporal resolution of 15 minutes, which is the same \n",
    "# as the electromobility time series\n",
    "edisgo.resample_timeseries()"
   ]
  },
  {
   "cell_type": "code",
   "execution_count": null,
   "id": "716fa083-0409-46a4-a55c-07cac583e387",
   "metadata": {},
   "outputs": [],
   "source": [
    "# plot feed-in, demand and residual load\n",
    "\n",
    "fig, ax = plt.subplots(figsize=(8, 6))\n",
    "\n",
    "edisgo.timeseries.generators_active_power.sum(axis=1).plot.line(ax=ax)\n",
    "edisgo.timeseries.loads_active_power.sum(axis=1).plot.line(ax=ax)\n",
    "edisgo.timeseries.residual_load.plot.line(ax=ax)\n",
    "\n",
    "ax.legend([\"Feed-in\", \"Demand\", \"Residual load\"])\n",
    "ax.set_ylabel(\"Power in MW\")\n",
    "\n",
    "plt.show()"
   ]
  },
  {
   "cell_type": "markdown",
   "id": "4269ad12",
   "metadata": {},
   "source": [
    "## Prerequisite data\n",
    "\n",
    "Currently, eDisGo only provides an automated process to obtain electromobility data from [SimBEV](https://github.com/rl-institut/simbev) and [TracBEV](https://github.com/rl-institut/tracbev).\n",
    "\n",
    "Since SimBEV and TracBEV generate data on municipality level, it is necessary to determine which municipalities lie within or intersect the network area. Therefore, municipality geodata is necessary. The download and how to find the municipalities that intersect the chosen MV grid district is shown in the following."
   ]
  },
  {
   "cell_type": "markdown",
   "id": "0ba78c69",
   "metadata": {},
   "source": [
    "### Download 'Verwaltungsgebiete' data\n",
    "\n",
    "The following code shows you how to download the original municipality geodata. To make the example faster we will however skip the download and use a reduced version of the dataset containing only the municipalities that intersect with the grid district used in this example. The reduced dataset is loaded in the next cell.\n",
    "\n",
    "```python\n",
    "target = Path(vg250_path, \"vg250_01-01.geo84.shape.ebenen/vg250_ebenen_0101/VG250_GEM.shp\")\n",
    "\n",
    "if not target.is_file():\n",
    "    vg250_path.mkdir(parents=True, exist_ok=True)\n",
    "\n",
    "    filename = os.path.join(vg250_path, \"vg250.geo84\")\n",
    "\n",
    "    url = \"https://daten.gdz.bkg.bund.de/produkte/vg/vg250_ebenen_0101/2020/vg250_01-01.geo84.shape.ebenen.zip\"\n",
    "    req = requests.get(url)\n",
    "\n",
    "    with open(filename, \"wb\") as fout:\n",
    "        fout.write(req.content)\n",
    "\n",
    "    with zipfile.ZipFile(filename, \"r\") as zip_ref:\n",
    "        zip_ref.extractall(vg250_path)\n",
    "\n",
    "vg250 = gpd.read_file(target)\n",
    "```"
   ]
  },
  {
   "cell_type": "code",
   "execution_count": null,
   "id": "3fdf5534",
   "metadata": {},
   "outputs": [],
   "source": [
    "vg250 = gpd.read_file(os.path.join(\"data\", \"vg250.shp\"))"
   ]
  },
  {
   "cell_type": "markdown",
   "id": "b2e81602",
   "metadata": {},
   "source": [
    "### Check which 'Verwaltungsgebiete' intersect MV grid"
   ]
  },
  {
   "cell_type": "code",
   "execution_count": null,
   "id": "d6bdc1f4",
   "metadata": {},
   "outputs": [],
   "source": [
    "mv_grid_gdf = gpd.GeoDataFrame(\n",
    "    pd.DataFrame(data=edisgo.topology.grid_district[\"geom\"], columns=[\"geometry\"]),\n",
    "    crs=f\"EPSG:{edisgo.topology.grid_district['srid']}\",\n",
    ")\n",
    "\n",
    "intersect_gdf = mv_grid_gdf.sjoin(vg250)\n",
    "print(\"Intersecting AGS\")\n",
    "intersect_gdf.AGS.to_list()"
   ]
  },
  {
   "cell_type": "code",
   "execution_count": null,
   "id": "38e067dd",
   "metadata": {},
   "outputs": [],
   "source": [
    "# plot MV grid district (black line) and intersecting AGS (blue shapes)\n",
    "fig, ax = plt.subplots(figsize=(5, 8))\n",
    "\n",
    "vg250.loc[vg250.AGS.isin(intersect_gdf.AGS)].plot(ax=ax)\n",
    "mv_grid_gdf.boundary.plot(ax=ax, color=\"black\")\n",
    "\n",
    "plt.show()"
   ]
  },
  {
   "cell_type": "markdown",
   "id": "e2082ea8-3be5-4e69-8b3b-26023bedc71b",
   "metadata": {},
   "source": [
    "As most municipalities only intersect the grid district at its border, only the electromobility data for one municipality needs to be generated."
   ]
  },
  {
   "cell_type": "code",
   "execution_count": null,
   "id": "0d4e721d-6be2-4e41-b6d0-349f9bbc2f5b",
   "metadata": {},
   "outputs": [],
   "source": [
    "# plot MV grid district (black line) and mainly intersecting AGS (blue shape)\n",
    "fig, ax = plt.subplots(figsize=(5, 5))\n",
    "\n",
    "vg250.loc[vg250.AGS == \"05334032\"].plot(ax=ax)\n",
    "mv_grid_gdf.boundary.plot(ax=ax, color=\"black\")\n",
    "\n",
    "plt.show()"
   ]
  },
  {
   "cell_type": "markdown",
   "id": "bfc8a701",
   "metadata": {},
   "source": [
    "## Add electromobility to EDisGo object\n",
    "\n",
    "### Electromobility data\n",
    "So far, adding electromobility data to an EDisGo object requires electromobility data from SimBEV (required version: [3083c5a](https://github.com/rl-institut/simbev/commit/86076c936940365587c9fba98a5b774e13083c5a))\n",
    "and TracBEV (required version: [14d864c](https://github.com/rl-institut/tracbev/commit/03e335655770a377166c05293a966052314d864c)) to be pre-generated. The data is currently not created automatically.\n",
    "\n",
    "\n",
    "\n",
    "If you don't have SimBEV and TracBEV data yet, you can use the data provided for this example for the ding0 grid downloaded above.\n",
    "\n",
    "In order to import the electromobility data of the grid that you downloaded above and integrate charging points into the grid, you can use the function `EDisGo.import_electromobility`. Besides loading the electromobility data, the function also allocates the charging demand from SimBEV to charging sites from TracBEV and integrates the charging parks into the grid. This is further explained in the following.\n",
    "\n",
    "### Allocation of charging demand\n",
    "\n",
    "After electromobility data is loaded, the charging demand from SimBEV is allocated to potential charging parks from TracBEV. The allocation of the charging processes to the charging infrastructure is carried out with the help of the weighting factor of the potential charging parks determined by TracBEV. This involves a random and weighted selection of one charging park per charging process. In the case of private charging infrastructure, a separate charging point is set up for each EV. All charging processes of the respective EV and charging use case are assigned to this charging point.\n",
    "\n",
    "For the public charging infrastructure, the allocation is made explicitly per charging process. For each charging process it is determined whether a suitable charging point is already available. For this purpose it is checked whether the charging point is occupied by another EV in the corresponding period and whether it can provide the corresponding charging capacity. If no suitable charging point is available, a charging point is determined randomly and weighted in the same way as for private charging.\n",
    "\n",
    "### Integration of charging parks\n",
    "\n",
    "After the allocation of charging demand to specific charging sites, all potential charging parks with charging demand allocated to them are integrated into the grid. This is realised the following way:\n",
    "\n",
    "* If power rating is <= 0.3 MVA, the charging point is integrated into the LV grid, otherwise it is integrated into the MV grid.\n",
    "* Integration into LV grid:\n",
    "    * The considered charging point is integrated into the LV grid whose distribution substation is closest (this is currently done this way because the LV grids are not georeferenced but only the MV grid including the MV-LV substations).\n",
    "    * If power rating is > 0.1 MVA, the charging point is directly connected to the distribution substation.\n",
    "    * If power rating is <= 0.1 MVA, the type of connection depends on the charging point use case:\n",
    "        - Use Case `home`: Charging point is connected to a random household load in the identified LV grid.\n",
    "        - Use Case `work`: Charging point is connected to a random commercial, industrial or agricultural consumer.\n",
    "        - Use Case `public`: Charging point is connected to a random grid connection point in the identified LV grid.\n",
    "* Integration into MV grid:\n",
    "    * If the power rating of the charging point is > 4.5 MVA, it is directly connected to the HV-MV station.\n",
    "    * If the power rating of the charging point is <= 4.5 MVA, it is connected to the nearest grid connection point or cable. If a cable is selected, the line is cut at the point closest to the charging station and a new branch tee is added to which the charging station is connected."
   ]
  },
  {
   "cell_type": "code",
   "execution_count": null,
   "id": "c8f2e17e",
   "metadata": {},
   "outputs": [],
   "source": [
    "# Download SimBEV data\n",
    "\n",
    "def listFD(url, ext=\"\"):\n",
    "    page = requests.get(url).text\n",
    "    soup = BeautifulSoup(page, \"html.parser\")\n",
    "    return [node.get(\"href\").split(\"/\")[-1] for node in soup.find_all(\"a\") if node.get(\"href\").endswith(ext)]\n",
    "\n",
    "def download_simbev_example_data():\n",
    "\n",
    "    raw_url = (\"https://raw.githubusercontent.com/openego/eDisGo/dev/\" +\n",
    "               \"tests/data/simbev_example_scenario/\")\n",
    "    ags = \"5334032\"\n",
    "\n",
    "    # create directories to save data to\n",
    "    simbev_example_data_path = os.path.join(\n",
    "        os.path.expanduser(\"~\"), \".edisgo\", \"simbev_example_data\"\n",
    "    )\n",
    "    os.makedirs(simbev_example_data_path, exist_ok=True)\n",
    "    os.makedirs(os.path.join(simbev_example_data_path, ags), exist_ok=True)\n",
    "    # download files\n",
    "    url = (f\"https://github.com/openego/eDisGo/tree/dev/\" +\n",
    "           f\"tests/data/simbev_example_scenario/{ags}/\")\n",
    "    filenames = [f for f in listFD(url, \"csv\")]\n",
    "\n",
    "    for file in filenames:\n",
    "        req = requests.get(f\"{raw_url}/{ags}/{file}\")\n",
    "        filename = os.path.join(simbev_example_data_path, ags, f\"{file}\")\n",
    "        with open(filename, \"wb\") as fout:\n",
    "            fout.write(req.content)\n",
    "            \n",
    "    req = requests.get(f\"{raw_url}/metadata_simbev_run.json\")\n",
    "    filename = os.path.join(simbev_example_data_path, \"metadata_simbev_run.json\")\n",
    "    with open(filename, \"wb\") as fout:\n",
    "        fout.write(req.content)\n",
    "        \n",
    "    return simbev_example_data_path\n",
    "\n",
    "simbev_example_data_path = download_simbev_example_data()"
   ]
  },
  {
   "cell_type": "code",
   "execution_count": null,
   "id": "8421b212",
   "metadata": {},
   "outputs": [],
   "source": [
    "# Download TracBEV data\n",
    "\n",
    "def download_tracbev_example_data():\n",
    "\n",
    "    # create directories to save data to\n",
    "    tracbev_example_data_path = os.path.join(\n",
    "        os.path.expanduser(\"~\"), \".edisgo\", \"tracbev_example_data\"\n",
    "    )\n",
    "    os.makedirs(tracbev_example_data_path, exist_ok=True)\n",
    "    \n",
    "    # download files\n",
    "    url = (\"https://github.com/openego/eDisGo/tree/dev/\" +\n",
    "           \"tests/data/tracbev_example_scenario/\")\n",
    "    filenames = [f for f in listFD(url, \"gpkg\")]\n",
    "\n",
    "    for file in filenames:\n",
    "        req = requests.get(\n",
    "            (f\"https://raw.githubusercontent.com/openego/eDisGo/dev/\" + \n",
    "             f\"tests/data/tracbev_example_scenario/{file}\")\n",
    "        )\n",
    "        filename = os.path.join(tracbev_example_data_path, \"{}\".format(file))\n",
    "        with open(filename, \"wb\") as fout:\n",
    "            fout.write(req.content)\n",
    "            \n",
    "    return tracbev_example_data_path\n",
    "\n",
    "tracbev_example_data_path = download_tracbev_example_data()"
   ]
  },
  {
   "cell_type": "code",
   "execution_count": null,
   "id": "1d65e6d6",
   "metadata": {},
   "outputs": [],
   "source": [
    "edisgo.import_electromobility(\n",
    "    simbev_directory=simbev_example_data_path,\n",
    "    tracbev_directory=tracbev_example_data_path\n",
    ")"
   ]
  },
  {
   "cell_type": "markdown",
   "id": "ae9955f1",
   "metadata": {},
   "source": [
    "### eDisGo electromobility data structure <a class=\"anchor\" id=\"network\"></a>\n",
    "\n",
    "All data coming from SimBEV and TracBEV is stored in the `Electromobility` object that can be accessed through the `EDisGo` object as follows:\n",
    "\n",
    "```python\n",
    "edisgo.electromobility\n",
    "```\n",
    "\n",
    "Integrated charging parks can also be found in the `Topology` object:\n",
    "\n",
    "```python\n",
    "edisgo.topology.loads_df[edisgo.topology.loads_df.type == \"charging_point\"]\n",
    "```\n",
    "\n",
    "Data stored in the `Electromobility` object is shown in the following."
   ]
  },
  {
   "cell_type": "code",
   "execution_count": null,
   "id": "0e859c1e-6aba-4457-92f5-59b1a4b4ddae",
   "metadata": {},
   "outputs": [],
   "source": [
    "# SimBEV charging processes data\n",
    "edisgo.electromobility.charging_processes_df.head()"
   ]
  },
  {
   "cell_type": "code",
   "execution_count": null,
   "id": "964916d6-82fc-47fb-8ff4-d28173113128",
   "metadata": {},
   "outputs": [],
   "source": [
    "# SimBEV configuration data\n",
    "edisgo.electromobility.simbev_config_df"
   ]
  },
  {
   "cell_type": "code",
   "execution_count": null,
   "id": "db648528-06dd-40cf-9fc0-4137280f21cb",
   "metadata": {},
   "outputs": [],
   "source": [
    "# TracBEV potential charging point data\n",
    "edisgo.electromobility.potential_charging_parks_gdf.head()"
   ]
  },
  {
   "cell_type": "code",
   "execution_count": null,
   "id": "f6663f9f-2481-403d-b1d8-c0cf364d3eba",
   "metadata": {},
   "outputs": [],
   "source": [
    "# Charging parks that got integrated into the network\n",
    "edisgo.electromobility.integrated_charging_parks_df.head()"
   ]
  },
  {
   "cell_type": "code",
   "execution_count": null,
   "id": "c71977c0-e4e0-443e-afa1-ed632c30c54b",
   "metadata": {},
   "outputs": [],
   "source": [
    "edisgo.topology.loads_df[edisgo.topology.loads_df.type == \"charging_point\"].head()"
   ]
  },
  {
   "cell_type": "code",
   "execution_count": null,
   "id": "1b156984-4431-4312-a617-a23441e0d153",
   "metadata": {},
   "outputs": [],
   "source": [
    "# plotting the grid district and all potential charging parks\n",
    "\n",
    "fig, ax = plt.subplots(figsize=(11, 11))\n",
    "\n",
    "mv_grid_gdf.boundary.plot(ax=ax, color=\"black\")\n",
    "\n",
    "# plot potential charging parks\n",
    "edisgo.electromobility.potential_charging_parks_gdf.plot(ax=ax, alpha=0.3)\n",
    "\n",
    "# plot integrated charging parks\n",
    "edisgo.electromobility.potential_charging_parks_gdf.loc[\n",
    "    edisgo.electromobility.integrated_charging_parks_df.index\n",
    "].plot(ax=ax, color=\"green\", markersize=50)\n",
    "\n",
    "# plot charging parks with charging demand but outside of the grid district\n",
    "# and therefore not integrated\n",
    "charging_parks_with_charging_demand = (\n",
    "    edisgo.electromobility.charging_processes_df.charging_park_id.unique()\n",
    ")\n",
    "charging_parks_not_integrated = set(charging_parks_with_charging_demand) - set(\n",
    "    edisgo.electromobility.integrated_charging_parks_df.index\n",
    ")\n",
    "\n",
    "edisgo.electromobility.potential_charging_parks_gdf.loc[\n",
    "    charging_parks_not_integrated\n",
    "].plot(ax=ax, color=\"red\", markersize=50)\n",
    "\n",
    "ax.legend(\n",
    "    [\n",
    "        \"Grid district\",\n",
    "        \"Potential charging parks\",\n",
    "        \"Integrated charging parks\",\n",
    "        \"Charging parks with charging demand not integrated\",\n",
    "    ]\n",
    ")\n",
    "\n",
    "plt.show()"
   ]
  },
  {
   "cell_type": "markdown",
   "id": "b82b9f8f",
   "metadata": {},
   "source": [
    "## Applying different charging strategies\n",
    "\n",
    "The `EDisGo.import_electromobility()` function does not yield charging time series per charging point but only charging processes taking place at each charging point. The actual charging time series are determined through applying a charging strategy using the function `EDisGo.apply_charging_strategy`."
   ]
  },
  {
   "cell_type": "markdown",
   "id": "0cc6707b",
   "metadata": {},
   "source": [
    "The eDisGo tool currently offers three different charging strategies: `dumb`, `reduced` and `residual`.\n",
    "The aim of the charging strategies 'reduced' and 'residual' is to generate the most grid-friendly charging behavior possible without restricting the convenience for end users. Therefore, the boundary condition of all charging strategies is that the charging requirement of each charging process must be fully covered. This means that charging processes can only be flexibilised if the EV can be fully charged while it is stationary. Furthermore, only private\n",
    "charging processes can be used as a flexibility, since the fulfillment of the service is the priority for public \n",
    "charging processes.\n",
    "\n",
    "\n",
    "* `dumb`: In this charging strategy the cars are charged directly after arrival with the maximum possible charging capacity.\n",
    "\n",
    "* `reduced`: This is a preventive charging strategy. The cars are charged directly after arrival with the minimum possible charging power. The minimum possible charging power is determined by the parking time and the parameter `minimum_charging_capacity_factor`.\n",
    "\n",
    "* `residual`: This is an active charging strategy. The cars are charged when the residual load in the MV grid is lowest (high generation and low consumption). Charging processes with a low flexibility are given priority.\n",
    "\n",
    "In the following all three charging strategies are applied. To show their differences, three EDisGo objects are used."
   ]
  },
  {
   "cell_type": "code",
   "execution_count": null,
   "id": "18455dcc-0db7-4ade-9003-6c183552a12b",
   "metadata": {},
   "outputs": [],
   "source": [
    "# copy edisgo object to have three objects to apply charging strategies on\n",
    "edisgo2 = deepcopy(edisgo)\n",
    "edisgo3 = deepcopy(edisgo)"
   ]
  },
  {
   "cell_type": "code",
   "execution_count": null,
   "id": "685108f9-f15b-459e-8f22-2d99c678fb1c",
   "metadata": {},
   "outputs": [],
   "source": [
    "# apply default charging strategy \"dumb\"\n",
    "edisgo.apply_charging_strategy()"
   ]
  },
  {
   "cell_type": "code",
   "execution_count": null,
   "id": "b56ebbd4",
   "metadata": {},
   "outputs": [],
   "source": [
    "# conduct grid analysis\n",
    "# to keep the calculation time low in this example, only time steps with maximum and \n",
    "# minimum residual load are analysed\n",
    "residual_load = edisgo.timeseries.residual_load\n",
    "worst_case_time_steps = pd.DatetimeIndex(\n",
    "    [residual_load.idxmin(), residual_load.idxmax()]\n",
    ")\n",
    "edisgo.analyze(timesteps=worst_case_time_steps);"
   ]
  },
  {
   "cell_type": "markdown",
   "id": "b9cd3434",
   "metadata": {},
   "source": [
    "To change the charging strategy from the default `dumb` to one of the other strategies, the `strategy` parameter has to be set accordingly:"
   ]
  },
  {
   "cell_type": "code",
   "execution_count": null,
   "id": "a15eece2-951e-4749-9ab4-eaf3c22b0077",
   "metadata": {},
   "outputs": [],
   "source": [
    "edisgo2.apply_charging_strategy(strategy=\"reduced\")\n",
    "edisgo2.analyze(timesteps=worst_case_time_steps);"
   ]
  },
  {
   "cell_type": "code",
   "execution_count": null,
   "id": "2b61d2e2",
   "metadata": {},
   "outputs": [],
   "source": [
    "edisgo3.apply_charging_strategy(strategy=\"residual\")\n",
    "edisgo3.analyze(timesteps=worst_case_time_steps);"
   ]
  },
  {
   "cell_type": "markdown",
   "id": "3bd366aa-ea6e-4d1f-a66b-fee6bcaf3f4f",
   "metadata": {},
   "source": [
    "**Plot charging time series for different charging strategies**"
   ]
  },
  {
   "cell_type": "code",
   "execution_count": null,
   "id": "20d98ca8",
   "metadata": {},
   "outputs": [],
   "source": [
    "fig, ax = plt.subplots(1, 1, figsize=(9, 5))\n",
    "\n",
    "edisgo.timeseries.charging_points_active_power(edisgo).sum(axis=1).plot.line(\n",
    "    ax=ax, color=\"blue\", legend=True, label=\"dumb\"\n",
    ")\n",
    "edisgo2.timeseries.charging_points_active_power(edisgo2).sum(axis=1).plot.line(\n",
    "    ax=ax, color=\"red\", legend=True, label=\"reduced\"\n",
    ")\n",
    "edisgo3.timeseries.charging_points_active_power(edisgo3).sum(axis=1).plot.line(\n",
    "    ax=ax, color=\"cyan\", legend=True, label=\"residual\"\n",
    ")\n",
    "\n",
    "plt.tight_layout()\n",
    "\n",
    "plt.show()"
   ]
  }
 ],
 "metadata": {
  "kernelspec": {
   "display_name": "Python 3 (ipykernel)",
   "language": "python",
   "name": "python3"
  },
  "language_info": {
   "codemirror_mode": {
    "name": "ipython",
    "version": 3
   },
   "file_extension": ".py",
   "mimetype": "text/x-python",
   "name": "python",
   "nbconvert_exporter": "python",
   "pygments_lexer": "ipython3",
   "version": "3.8.10"
  },
  "toc": {
   "base_numbering": 1,
   "nav_menu": {},
   "number_sections": true,
   "sideBar": true,
   "skip_h1_title": false,
   "title_cell": "Table of Contents",
   "title_sidebar": "Contents",
   "toc_cell": false,
   "toc_position": {
    "height": "calc(100% - 180px)",
    "left": "10px",
    "top": "150px",
    "width": "428.8px"
   },
   "toc_section_display": true,
   "toc_window_display": true
  }
 },
 "nbformat": 4,
 "nbformat_minor": 5
}
