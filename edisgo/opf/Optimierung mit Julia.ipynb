{
 "cells": [
  {
   "cell_type": "code",
   "execution_count": null,
   "id": "33c0be37",
   "metadata": {},
   "outputs": [],
   "source": [
    "import pandas as pd\n",
    "from edisgo.edisgo import import_edisgo_from_files\n",
    "from edisgo.flex_opt.costs import grid_expansion_costs\n",
    "from edisgo.tools.tools import get_sample_using_time\n",
    "from copy import deepcopy\n",
    "import os"
   ]
  },
  {
   "cell_type": "code",
   "execution_count": null,
   "id": "9d659bb1",
   "metadata": {},
   "outputs": [],
   "source": [
    "grid = \"5bus_testcase\"\n",
    "path = os.path.join(\".\", \"edisgo_scenario_data\", grid)\n",
    "solution_path = os.path.join(\".\",\"opf_solutions\", grid+\".csv\")"
   ]
  },
  {
   "cell_type": "code",
   "execution_count": null,
   "id": "eeced3f1",
   "metadata": {},
   "outputs": [],
   "source": [
    "edisgo = import_edisgo_from_files(path, import_topology=True,\n",
    "                                  import_timeseries=True,\n",
    "                                  import_electromobility=True,\n",
    "                                  import_heat_pump=True,\n",
    "                                  import_dsm=True)\n",
    "psa_net = edisgo.to_pypsa()\n",
    "edisgo_OPF = deepcopy(edisgo)\n",
    "edisgo.reinforce()\n",
    "cost = grid_expansion_costs(edisgo)"
   ]
  },
  {
   "cell_type": "markdown",
   "id": "c78fdeaa",
   "metadata": {},
   "source": [
    "# 1. Flexibilitäten\n",
    "Implementiert sind folgende Flexibilitäten\n",
    "* Elektromobilität\n",
    "* Wärmepumpen mit Wärmespeichern\n",
    "* Batteriespeicher\n",
    "* Demand Side Management\n",
    "\n",
    "Damit die flexiblen Verbraucher in der Julia-Optimierung berücksichtigt werden, müssen für jede Flexibilität eine Liste der Namen der flexiblen Verbraucher an den entsprechenden Parameter in ```edisgo.opf.powermodels_opf.pm_optimize()``` übergeben. \n",
    "\n",
    "Parameter:\n",
    "* flexible_cps\n",
    "* flexible_hps\n",
    "* flexible_storages\n",
    "* flexible_loads\n",
    "\n",
    "Falls Flexibilität nicht mit optimiert werden soll, den Parameter nicht setzen. "
   ]
  },
  {
   "cell_type": "code",
   "execution_count": null,
   "id": "8302e1f1",
   "metadata": {},
   "outputs": [],
   "source": [
    "# Elektromobilität\n",
    "flexible_cps = psa_net.loads.loc[\n",
    "    (psa_net.loads.index.str.contains(\"home\"))| \n",
    "    (psa_net.loads.index.str.contains(\"work\"))\n",
    "].index.values\n",
    "# Wärmepumpen/-speicher\n",
    "flexible_hps = edisgo.heat_pump.thermal_storage_units_df.index.values\n",
    "# Batteriespeicher\n",
    "flexible_storages = edisgo.topology.storage_units_df.index.values\n",
    "# DSM\n",
    "flexible_loads = edisgo.dsm.p_max.columns"
   ]
  },
  {
   "cell_type": "markdown",
   "id": "eff27abd",
   "metadata": {},
   "source": [
    "# 2. OPF Version\n",
    "Parameter: opf_version\n",
    "1. Mit Anforderungen aus dem übergelagerten Netz, ohne Netzrestriktionen\n",
    "2. Mit Anforderungen aus dem übergelagerten Netz, mit Netzrestriktionen\n",
    "3. Ohne Anforderungen aus dem übergelagerten Netz, ohne Netzrestriktionen\n",
    "4. Ohne Anforderungen aus dem übergelagerten Netz, mit Netzrestriktionen"
   ]
  },
  {
   "cell_type": "code",
   "execution_count": null,
   "id": "637f10cf",
   "metadata": {},
   "outputs": [],
   "source": [
    "opf_version = 3\n",
    "# Für OPF mit Anforderungen aus dem übergelagerten Netz müssen momentan noch Dummy Daten erzeugt werden\n",
    "if opf_version in [1,2]:\n",
    "    cps = psa_net.loads.loc[psa_net.loads.index.str.contains(\"Charging\")].index.values\n",
    "    hps = psa_net.loads.loc[psa_net.loads.index.str.contains(\"HP_Load\")].index.values\n",
    "    edisgo_OPF.overlying_grid.dsm_active_power = psa_net.loads_t.p_set.loc[:, edisgo_OPF.dsm.p_max.columns].sum(axis=1)\n",
    "    edisgo_OPF.overlying_grid.electromobility_active_power = psa_net.loads_t.p_set.filter(cps).sum(axis=1)\n",
    "    edisgo_OPF.overlying_grid.heat_pump_rural_active_power = psa_net.loads_t.p_set.filter(hps).sum(axis=1)\n",
    "    edisgo_OPF.overlying_grid.heat_central_active_power = pd.Series(index=edisgo_OPF.timeseries.timeindex,\n",
    "                                                      data=[0] * len(edisgo_OPF.timeseries.timeindex))\n",
    "    edisgo_OPF.overlying_grid.renewables_curtailment = pd.Series(index=edisgo_OPF.timeseries.timeindex,\n",
    "                                                      data=[0.0001] * len(edisgo_OPF.timeseries.timeindex))\n",
    "    edisgo_OPF.overlying_grid.storage_units_active_power = psa_net.storage_units_t.p_set.sum(axis=1)"
   ]
  },
  {
   "cell_type": "markdown",
   "id": "f0e511c8",
   "metadata": {},
   "source": [
    "# 3. Optimierungsmethode\n",
    "Parameter: method\n",
    "- \"soc\": konvexe SOC-Optimierung\n",
    "- \"nc\": nicht-konvexe Optimierung"
   ]
  },
  {
   "cell_type": "code",
   "execution_count": null,
   "id": "270f1a54",
   "metadata": {},
   "outputs": [],
   "source": [
    "method = \"soc\""
   ]
  },
  {
   "cell_type": "markdown",
   "id": "172a57be",
   "metadata": {},
   "source": [
    "# 4. eDisGo Funktionen für die Optimierung\n",
    "## 4.1. ```to_powermodels()```\n",
    "Wandelt eDisGo Objekt in PowerModels Network Data Format um.  \n",
    "```python\n",
    "to_powermodels(\n",
    "    self,\n",
    "    s_base=1,\n",
    "    flexible_cps=None,\n",
    "    flexible_hps=None,\n",
    "    flexible_loads=None,\n",
    "    flexible_storages=None,\n",
    "    opf_version=4,\n",
    "    )\n",
    "```"
   ]
  },
  {
   "cell_type": "code",
   "execution_count": null,
   "id": "eb1f0c76",
   "metadata": {},
   "outputs": [],
   "source": [
    "pm, hv_flex_dict = edisgo_OPF.to_powermodels(flexible_cps=flexible_cps, flexible_hps=flexible_hps,\n",
    "                               flexible_loads=flexible_loads, flexible_storages=flexible_storages,\n",
    "                               opf_version=opf_version)\n",
    "pm"
   ]
  },
  {
   "cell_type": "markdown",
   "id": "d1c6c27f",
   "metadata": {},
   "source": [
    "## 4.3. ```save_edisgo_to_json()```\n",
    "Speichert eDisGo Objekt im PowerModels Network Data Format als json. Wird zum Debuggen mit Julia benötigt.\n",
    "```python\n",
    "save_edisgo_to_json(\n",
    "    self,\n",
    "    filename=None,\n",
    "    path=\"\",\n",
    "    s_base=1,\n",
    "    flexible_cps=None,\n",
    "    flexible_hps=None,\n",
    "    flexible_loads=None,\n",
    "    flexible_storages=None,\n",
    "    opf_version=4,\n",
    ")\n",
    "\n",
    "```"
   ]
  },
  {
   "cell_type": "markdown",
   "id": "6c1cd7f2",
   "metadata": {},
   "source": [
    "## 4.4. ```pm_optimize()```\n",
    "Startet die Julia Optimierung für das eDisGo Objekt in einem Subproccess und schreibt die Ergebnisse der Optimierung wieder auf das eDisGo Objekt.\n",
    "```python\n",
    "pm_optimize(\n",
    "    self,\n",
    "    s_base=1,\n",
    "    flexible_cps=None,\n",
    "    flexible_hps=None,\n",
    "    flexible_loads=None,\n",
    "    flexible_storages=None,\n",
    "    opf_version=4,\n",
    "    method=\"soc\",\n",
    "    warm_start=False,\n",
    "    silence_moi=False,\n",
    "    save_heat_storage=False,\n",
    "    save_slack_gen=False,\n",
    "    save_slacks=False,\n",
    "    path=\"\",\n",
    ")\n",
    "\n",
    "```"
   ]
  },
  {
   "cell_type": "code",
   "execution_count": null,
   "id": "76748806",
   "metadata": {},
   "outputs": [],
   "source": [
    "edisgo_OPF.pm_optimize(flexible_cps=flexible_cps,\n",
    "                       flexible_hps=flexible_hps,\n",
    "                       flexible_loads=flexible_loads,\n",
    "                       flexible_storages=flexible_storages,\n",
    "                       s_base=1,\n",
    "                       opf_version=opf_version, \n",
    "                       silence_moi=False);"
   ]
  },
  {
   "cell_type": "markdown",
   "id": "08754860",
   "metadata": {},
   "source": [
    "## 4.2. ```from_powermodels()```\n",
    "Schreibt Ergebnisse der PowerModels Optimierung (Zeitreihen für die Flexibilitäten) zurück auf das eDisGo Objekt. Wird in Funktion ```pm_optimize()``` beutzt. \n",
    "```python\n",
    "from_powermodels(\n",
    "    self,\n",
    "    pm_results,\n",
    "    hv_flex_dict,\n",
    "    s_base=1,\n",
    "    save_heat_storage=False,\n",
    "    save_slack_gen=False,\n",
    "    save_slacks=False,\n",
    "    path=\"\",\n",
    ")\n",
    "```"
   ]
  },
  {
   "cell_type": "code",
   "execution_count": null,
   "id": "32918b81",
   "metadata": {},
   "outputs": [],
   "source": [
    "edisgo_OPF.reinforce()\n",
    "cost_OPF = grid_expansion_costs(edisgo_OPF)"
   ]
  },
  {
   "cell_type": "markdown",
   "id": "8b8900ba",
   "metadata": {},
   "source": [
    "# 5. Beispiel: Netz 1056"
   ]
  },
  {
   "cell_type": "code",
   "execution_count": null,
   "id": "cbd71bd6",
   "metadata": {},
   "outputs": [],
   "source": [
    "grid = \"1056\"\n",
    "path = os.path.join(\".\", \"edisgo_scenario_data\", grid)\n",
    "solution_path = os.path.join(\".\",\"opf_solutions\", grid+\".csv\")\n",
    "grid_1056 = import_edisgo_from_files(path, import_topology=True,\n",
    "                                  import_timeseries=True,\n",
    "                                  import_electromobility=True,\n",
    "                                  import_heat_pump=True,\n",
    "                                  import_dsm=True)"
   ]
  },
  {
   "cell_type": "markdown",
   "id": "f8d6ba35",
   "metadata": {},
   "source": [
    "Optimierung nur für einen Teilzeitraum laufen lassen:\n",
    "```python\n",
    "edisgo.tools.tools.get_sample_using_time(edisgo, start_date, end_date)\n",
    "```"
   ]
  },
  {
   "cell_type": "code",
   "execution_count": null,
   "id": "176f1194",
   "metadata": {},
   "outputs": [],
   "source": [
    "psa_net = grid_1056.to_pypsa()\n",
    "grid_1056_OPF = deepcopy(grid_1056)\n",
    "grid_1056.reinforce()\n",
    "cost_1056 = grid_expansion_costs(grid_1056)"
   ]
  },
  {
   "cell_type": "code",
   "execution_count": null,
   "id": "abb69e00",
   "metadata": {},
   "outputs": [],
   "source": [
    "# Elektromobilität\n",
    "flexible_cps = psa_net.loads.loc[\n",
    "    (psa_net.loads.index.str.contains(\"home\"))| \n",
    "    (psa_net.loads.index.str.contains(\"work\"))\n",
    "].index.values\n",
    "# Wärmepumpen/-speicher\n",
    "flexible_hps = grid_1056_OPF.heat_pump.thermal_storage_units_df.index.values\n",
    "# Batteriespeicher\n",
    "flexible_storages = grid_1056_OPF.topology.storage_units_df.index.values\n",
    "# DSM\n",
    "flexible_loads = grid_1056_OPF.dsm.p_max.columns"
   ]
  },
  {
   "cell_type": "code",
   "execution_count": null,
   "id": "0853dd17",
   "metadata": {},
   "outputs": [],
   "source": [
    "grid_1056_OPF.pm_optimize(flexible_cps=flexible_cps,\n",
    "                       flexible_hps=flexible_hps,\n",
    "                       flexible_loads=flexible_loads,\n",
    "                       flexible_storages=flexible_storages,\n",
    "                       s_base=1,\n",
    "                       opf_version=opf_version, \n",
    "                       silence_moi=False);"
   ]
  },
  {
   "cell_type": "code",
   "execution_count": null,
   "id": "8ba8eb9e",
   "metadata": {},
   "outputs": [],
   "source": [
    "grid_1056_OPF.reinforce()\n",
    "cost = grid_expansion_costs(grid_1056)"
   ]
  },
  {
   "cell_type": "code",
   "execution_count": null,
   "id": "7c87fb58",
   "metadata": {},
   "outputs": [],
   "source": []
  },
  {
   "cell_type": "code",
   "execution_count": null,
   "id": "3675c704",
   "metadata": {},
   "outputs": [],
   "source": []
  }
 ],
 "metadata": {
  "kernelspec": {
   "display_name": "Python 3 (ipykernel)",
   "language": "python",
   "name": "python3"
  },
  "language_info": {
   "codemirror_mode": {
    "name": "ipython",
    "version": 3
   },
   "file_extension": ".py",
   "mimetype": "text/x-python",
   "name": "python",
   "nbconvert_exporter": "python",
   "pygments_lexer": "ipython3",
   "version": "3.8.10"
  }
 },
 "nbformat": 4,
 "nbformat_minor": 5
}
