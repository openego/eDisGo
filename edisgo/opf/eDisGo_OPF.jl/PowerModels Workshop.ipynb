{
 "cells": [
  {
   "cell_type": "markdown",
   "id": "f1b6d072",
   "metadata": {},
   "source": [
    "# Julia\n",
    "- IDE: VSCode (OpenSource)\n",
    "- keine Klassenmethoden, stattdessen type check bei Funktionen\n",
    "    ```julia\n",
    "    function beispiel(n::int)\n",
    "        return n+n\n",
    "    end\n",
    "    ```\n",
    "- keine automatische type conversion\n",
    "    -> Funktion würde error schmeißen wenn z.B. 1.0 übergeben wird\n",
    "- Pkg: Julia's Package Manager\n",
    "- Environment aufsetzen:\n",
    "    * Package Manager aktivieren: ```using Pkg```\n",
    "    * Environment aktivieren: ```Pkg.activate(\"\")```\n",
    "    * Package installieren: ```Pkg.add(\"PackageName\")```\n",
    "    * Dadurch werden automatisch eine Project Toml (enthält alle Packages, die man geadded hat) und eine Manifest Toml (enthält alle dependencies) erstellt\n",
    "- Existierende Environment installieren:\n",
    "    * ```Pkg.activate(\"\")```\n",
    "    * ```Pkg.instantiate()```"
   ]
  },
  {
   "cell_type": "code",
   "execution_count": null,
   "id": "bad22523",
   "metadata": {},
   "outputs": [],
   "source": [
    "using eDisGo_OPF\n",
    "using PowerModels\n",
    "using Ipopt\n",
    "using JuMP\n",
    "using JSON\n",
    "using Gurobi"
   ]
  },
  {
   "cell_type": "markdown",
   "id": "5a0ea931",
   "metadata": {},
   "source": [
    "# PowerModels\n",
    "## 1. [Network Data Format](https://lanl-ansi.github.io/PowerModels.jl/stable/network-data/)\n",
    "- PowerModels arbeitet mit Dictionaries\n",
    "- IO: Matpower .m-file, PTI .raw-file oder json\n",
    "- eDisGo: Dictionary \"pm\" wird aus eDisGo-Objekt in ```edisgo.io.powermodels_io.to_powermodels()``` erzeugt und in ```edisgo.opf.powermodels_opf.pm_optimize()``` als json-string an Julia subproccess übergeben"
   ]
  },
  {
   "cell_type": "code",
   "execution_count": null,
   "id": "312ec49a",
   "metadata": {},
   "outputs": [],
   "source": [
    "# Example\n",
    "data = parse_file(\"./test/case3.m\")\n",
    "data"
   ]
  },
  {
   "cell_type": "code",
   "execution_count": null,
   "id": "729cc5bf",
   "metadata": {},
   "outputs": [],
   "source": [
    "data[\"bus\"][\"1\"]"
   ]
  },
  {
   "cell_type": "code",
   "execution_count": null,
   "id": "ed4f272d",
   "metadata": {},
   "outputs": [],
   "source": [
    "print_summary(data) # funktioniert nicht für Multi-period Network Data"
   ]
  },
  {
   "cell_type": "markdown",
   "id": "42825e81",
   "metadata": {},
   "source": [
    "## 2. Optimierungsmodell erstellen\n",
    "PowerModels Funktion \n",
    "```julia \n",
    "instantiate_model(data, model_type, build_method)\n",
    "```\n",
    "- data: Netzdaten im Network Data Format\n",
    "- model_type: verwendete Modellformulierung (z.B. BIM, BFM, linearisiert, SOC, ...). Modelltypen findet man [hier](https://lanl-ansi.github.io/PowerModels.jl/stable/formulation-details/)\n",
    "- build_method(): enthält die Funktionen zur Variablen-, Constraint- und Objective Function-Erzeugung für das Modell"
   ]
  },
  {
   "cell_type": "code",
   "execution_count": null,
   "id": "79f641f2",
   "metadata": {},
   "outputs": [],
   "source": [
    "# DCPPowerModel: Linearized 'DC' power flow Model with polar voltage variables.\n",
    "pm = instantiate_model(data, DCPPowerModel, build_opf)\n",
    "pm.model"
   ]
  },
  {
   "cell_type": "code",
   "execution_count": null,
   "id": "4238a1e1",
   "metadata": {},
   "outputs": [],
   "source": [
    "print(pm.model)"
   ]
  },
  {
   "cell_type": "markdown",
   "id": "60fcdb86",
   "metadata": {},
   "source": [
    "## 3. Optimierungsmodell lösen\n",
    "PowerModels Funktion \n",
    "```julia \n",
    "optimize_model!(pm; optimizer=nothing)\n",
    "```\n",
    "- pm: PowerModels Optimierungsmodell\n",
    "- optimizer: Solver kann hier gesetzt werden (falls nicht wird default verwendet)"
   ]
  },
  {
   "cell_type": "code",
   "execution_count": null,
   "id": "e2369adb",
   "metadata": {},
   "outputs": [],
   "source": [
    "result_ipopt = optimize_model!(pm, optimizer=Ipopt.Optimizer);"
   ]
  },
  {
   "cell_type": "code",
   "execution_count": null,
   "id": "ce9eb37a",
   "metadata": {},
   "outputs": [],
   "source": [
    "pm = instantiate_model(data, DCPPowerModel, build_opf)\n",
    "result_gurobi = optimize_model!(pm, optimizer=Gurobi.Optimizer);"
   ]
  },
  {
   "cell_type": "markdown",
   "id": "2592ac2a",
   "metadata": {},
   "source": [
    "## Alternative zu 2. + 3.\n",
    "Statt 2. und 3. einzeln auszuführen, kann das Modell auch direkt gelöst werden mit der PowerModels Funktion \n",
    "```julia\n",
    "solve_opf(data, model_type; optimizer)\n",
    "```"
   ]
  },
  {
   "cell_type": "code",
   "execution_count": null,
   "id": "c4493965",
   "metadata": {},
   "outputs": [],
   "source": [
    "solve_opf(data, DCPPowerModel, Gurobi.Optimizer);"
   ]
  },
  {
   "cell_type": "markdown",
   "id": "4dbfa8f6",
   "metadata": {},
   "source": [
    "## 4. [PowerModels Result Data Format](https://lanl-ansi.github.io/PowerModels.jl/stable/result-data/)"
   ]
  },
  {
   "cell_type": "code",
   "execution_count": null,
   "id": "81a24263",
   "metadata": {},
   "outputs": [],
   "source": [
    "print_summary(result_ipopt[\"solution\"])"
   ]
  },
  {
   "cell_type": "code",
   "execution_count": null,
   "id": "dd6cabb9",
   "metadata": {},
   "outputs": [],
   "source": [
    "print_summary(result_gurobi[\"solution\"])"
   ]
  },
  {
   "cell_type": "markdown",
   "id": "6220296c",
   "metadata": {},
   "source": [
    "## 5. Ergebnisse auf die ursprünglichen Daten schreiben\n",
    "Mit der PowerModels Funktion\n",
    "```julia\n",
    "update_data!(data, result[\"solution\"])\n",
    "```"
   ]
  },
  {
   "cell_type": "code",
   "execution_count": null,
   "id": "7829d263",
   "metadata": {},
   "outputs": [],
   "source": [
    "data[\"gen\"][\"1\"]"
   ]
  },
  {
   "cell_type": "code",
   "execution_count": null,
   "id": "815898f4",
   "metadata": {},
   "outputs": [],
   "source": [
    "update_data!(data, result_gurobi[\"solution\"])"
   ]
  },
  {
   "cell_type": "code",
   "execution_count": null,
   "id": "95fe7d80",
   "metadata": {},
   "outputs": [],
   "source": [
    "data[\"gen\"][\"1\"]"
   ]
  },
  {
   "cell_type": "markdown",
   "id": "807f12a3",
   "metadata": {},
   "source": [
    "## 6. Solvereinstellungen"
   ]
  },
  {
   "cell_type": "code",
   "execution_count": null,
   "id": "15ff825d",
   "metadata": {},
   "outputs": [],
   "source": [
    "const ipopt = optimizer_with_attributes(Ipopt.Optimizer, MOI.Silent() => false, \"sb\" => \"yes\");\n",
    "const gurobi = optimizer_with_attributes(Gurobi.Optimizer, MOI.Silent() => false, \"Presolve\" => 1, \n",
    "                                        \"BarQCPConvTol\" => 1e-5, \"BarConvTol\" => 1e-6);"
   ]
  },
  {
   "cell_type": "markdown",
   "id": "9b39af2a",
   "metadata": {},
   "source": [
    "* Beispiel mit eDisGo json file (save_edisgo_to_json()) -> zum Debuggen + um sich die Datentransformation zu sparen\n",
    "* neues python jupyter notebook in dem Vorgehen aus eDisGo heraus durchgeführt wird!"
   ]
  },
  {
   "cell_type": "markdown",
   "id": "90b1ebfb",
   "metadata": {},
   "source": [
    "## 7. Beispiel eDisGo \n",
    "* Zum Debuggen in Julia kann eDisGo Netzwerk im PowerModels Network Data Format als json gespeichert werden mit eDisGo Funktion \n",
    "```python\n",
    "edisgo.save_edisgo_to_json()\n",
    "```\n",
    "### 7.1. Einlesen der Daten und Erstellung eines Multinetworks\n",
    "* Einlesen der Daten mit PowerModels ```parse_file(path)``` Funktion\n",
    "* Für Multi-Period-Optimierung muss aus den eDisGo-Daten ein \"multi network\" gemacht werden mit der PowerModels Funktion\n",
    "```julia\n",
    "make_multinetwork(data)\n",
    "```\n"
   ]
  },
  {
   "cell_type": "code",
   "execution_count": null,
   "id": "c88c1522",
   "metadata": {},
   "outputs": [],
   "source": [
    "data_edisgo = parse_file(\"./test/ding0_1_t_24.json\");\n",
    "print_summary(data_edisgo)\n",
    "data_edisgo_mn = make_multinetwork(data_edisgo);"
   ]
  },
  {
   "cell_type": "markdown",
   "id": "99210af4",
   "metadata": {},
   "source": [
    "### 7.2. Lösung des OPFs\n",
    "Für das eDisGo-OPF Problem inklusiver aller (wahlweise auch einer Auswahl an) Flexibilitäten wird die eDisGo_OPF Funktion\n",
    "```julia\n",
    "solve_mn_opf_bf_flex(data_mn, model_type, optimizer)\n",
    "```\n",
    "verwendet. \n",
    "Zum Lösen des eDisGo-OPFs stehen zwei Modellansätze zur Verfügung: konvexe (SOC) Optimierung und exakte, nicht-konvexe Optimierung. Bei der konvexen Optimierung wird die nicht-konvexe Leistungsgleichung $P^{2} + Q^2 = I^2 \\cdot V^2$ relaxiert zu $P^{2} + Q^2 \\leq I^2 \\cdot V^2$.\n",
    "#### 7.2.1. Konvexe Optimierung\n",
    "- model_type: SOCBFPowerModelEdisgo\n",
    "- optimizer: Gurobi\n",
    "\n",
    "\n"
   ]
  },
  {
   "cell_type": "code",
   "execution_count": null,
   "id": "1e2bd683",
   "metadata": {},
   "outputs": [],
   "source": [
    "result_soc, pm = eDisGo_OPF.solve_mn_opf_bf_flex(data_edisgo_mn, SOCBFPowerModelEdisgo, gurobi);"
   ]
  },
  {
   "cell_type": "code",
   "execution_count": null,
   "id": "1765cd66",
   "metadata": {},
   "outputs": [],
   "source": [
    "print_summary(result_soc)"
   ]
  },
  {
   "cell_type": "markdown",
   "id": "766d7548",
   "metadata": {},
   "source": [
    "#### Ergebnisse der einzelnen Zeitschritte ausgeben\n",
    "```julia\n",
    "result[\"solution\"][\"nw\"][t]\n",
    "```\n",
    "mit t: Zeitschritt als String"
   ]
  },
  {
   "cell_type": "code",
   "execution_count": null,
   "id": "f409cc71",
   "metadata": {},
   "outputs": [],
   "source": [
    "print_summary(result_soc[\"solution\"][\"nw\"][\"1\"])"
   ]
  },
  {
   "cell_type": "markdown",
   "id": "57753e13",
   "metadata": {},
   "source": [
    "Da es sich bei der konvexen Optimierung um eine SOC-Relaxation des urspünglichen Problems handelt, muss überprüft werden, ob die Exaktheit der relaxierten Gleichung erfüllt ist, also ob $P^{2} + Q^2 = I^2 \\cdot V^2$ gilt. Dafür kann die eDisGo_OPF Funktion\n",
    "```julia\n",
    "soc_tight, soc_dict = check_SOC_equality(result_soc, data_edisgo)\n",
    "```\n",
    "verwendet werden. Sie gibt zurück, ob die SOC Lösung exakt ist (soc_tight: boolean) und zudem ein Dictionary mit den Ergebnissen der Berechnung $P^{2} + Q^2 - I^2 \\cdot V^2$ für alle Zeitschritte und Branches, in denen die SOC-Lösung nicht exakt ist (soc_dict: dict)."
   ]
  },
  {
   "cell_type": "code",
   "execution_count": null,
   "id": "01afa34b",
   "metadata": {},
   "outputs": [],
   "source": [
    "soc_tight, soc_dict = eDisGo_OPF.check_SOC_equality(result_soc, data_edisgo);\n",
    "soc_dict"
   ]
  },
  {
   "cell_type": "markdown",
   "id": "b31fee3c",
   "metadata": {},
   "source": [
    "#### 7.2.2 Nicht-konvexe Optimierung\n",
    "- model_type: NCBFPowerModelEdisgo\n",
    "- optimizer: Ipopt"
   ]
  },
  {
   "cell_type": "code",
   "execution_count": null,
   "id": "e3cfd9ae",
   "metadata": {},
   "outputs": [],
   "source": [
    "result_nc = eDisGo_OPF.solve_mn_opf_bf_flex(data_edisgo_mn, NCBFPowerModelEdisgo, ipopt);"
   ]
  },
  {
   "cell_type": "code",
   "execution_count": null,
   "id": "cfc90023",
   "metadata": {},
   "outputs": [],
   "source": [
    "print_summary(result_nc)"
   ]
  },
  {
   "cell_type": "markdown",
   "id": "64eee36c",
   "metadata": {},
   "source": [
    "#### Nicht-konvexe Optimierung warm-starten\n",
    "Es besteht die Möglichkeit, die nicht-konvexe Optimierung mit der SOC-Lösung warm zu starten. Dazu die Ergebnisse der SOC-Lösung in die eDisGo-Netzdaten (data_edisgo_mn) integrieren und die Startwerde mit der eDisGo_OPF Funktion ```set_ac_bf_start_values!(data_edisgo_mn[\"nw\"][\"1\"])``` setzen. Danach die nicht-konvexe Optimierung wie gewohnt starten.\n",
    "\n",
    "```julia\n",
    "update_data!(data_edisgo_mn, result_soc[\"solution\"])\n",
    "set_ac_bf_start_values!(data_edisgo_mn[\"nw\"][\"1\"])\n",
    "solve_mn_opf_bf_flex(data_edisgo_mn, NCBFPowerModelEdisgo, ipopt)\n",
    "```"
   ]
  },
  {
   "cell_type": "code",
   "execution_count": null,
   "id": "d882fba9",
   "metadata": {},
   "outputs": [],
   "source": [
    "update_data!(data_edisgo_mn, result_soc[\"solution\"])\n",
    "eDisGo_OPF.set_ac_bf_start_values!(data_edisgo_mn[\"nw\"][\"1\"])\n",
    "eDisGo_OPF.solve_mn_opf_bf_flex(data_edisgo_mn, NCBFPowerModelEdisgo, ipopt);"
   ]
  },
  {
   "cell_type": "code",
   "execution_count": null,
   "id": "d2a2468c",
   "metadata": {},
   "outputs": [],
   "source": []
  }
 ],
 "metadata": {
  "kernelspec": {
   "display_name": "Julia 1.6.7",
   "language": "julia",
   "name": "julia-1.6"
  },
  "language_info": {
   "file_extension": ".jl",
   "mimetype": "application/julia",
   "name": "julia",
   "version": "1.6.7"
  }
 },
 "nbformat": 4,
 "nbformat_minor": 5
}
